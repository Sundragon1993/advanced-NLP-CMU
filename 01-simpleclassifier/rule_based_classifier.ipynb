{
 "cells": [
  {
   "cell_type": "markdown",
   "metadata": {},
   "source": [
    "# Build a Rule-based Sentiment Classifier\n",
    "\n",
    "This is a notebook for [CMU CS11-711 Advanced NLP](http://phontron.com/class/anlp2024/), in which you can attempt to build a rule-based sentiment classifier. It will take in a text `X` and return a `label` of \"1\" if the sentiment of the text is positive, \"-1\" if the sentiment of the text is negative, and \"0\" if the sentiment of the text is neutral. You can test the accuracy of your classifier on the [Stanford Sentiment Treebank](http://nlp.stanford.edu/sentiment/index.html) by running the notebook all the way to end.\n",
    "\n",
    "The only thing that you should change in this notebook is the following cell which contains two important elements. The first is `extract_features(X)`, which will extract a dictionary of (named) feature values from the text. You should create this by hand, and a simple example is shown for you. The second is `feature_weights`, a dictionary which will assign a weight to each extracted feature.\n",
    "\n",
    "The final way the classifier decides whether to assign a positive, negative, or neutral label is by calculating the dot product `feature_weights * extract_features(X)`, and if the value is greater than zero, return 1, less than zero return -1, and if exactly zero return 0.\n",
    "\n",
    "Let's have some fun trying to design a classifier 😁"
   ]
  },
  {
   "cell_type": "code",
   "metadata": {
    "ExecuteTime": {
     "end_time": "2024-11-10T04:36:37.248903Z",
     "start_time": "2024-11-10T04:36:37.244256Z"
    }
   },
   "source": [
    "def extract_features(x: str) -> dict[str, float]:\n",
    "    features = {}\n",
    "    x_split = x.split(' ')\n",
    "    \n",
    "    # Count the number of \"good words\" and \"bad words\" in the text\n",
    "    good_words = ['love', 'good', 'nice', 'great', 'enjoy', 'enjoyed']\n",
    "    bad_words = ['hate', 'bad', 'terrible', 'disappointing', 'sad', 'lost', 'angry']\n",
    "    for x_word in x_split:\n",
    "        if x_word in good_words:\n",
    "            # print(f'Contain good word')\n",
    "            features['good_word_count'] = features.get('good_word_count', 0) + 1\n",
    "        if x_word in bad_words:\n",
    "            # print(f'Contain bad word')\n",
    "            features['bad_word_count'] = features.get('bad_word_count', 0) + 1\n",
    "    \n",
    "    # The \"bias\" value is always one, to allow us to assign a \"default\" score to the text\n",
    "    features['bias'] = 1\n",
    "    \n",
    "    return features\n",
    "\n",
    "feature_weights = {'good_word_count': 1.0, 'bad_word_count': -1.0, 'bias': 0.5}"
   ],
   "outputs": [],
   "execution_count": 40
  },
  {
   "cell_type": "markdown",
   "metadata": {},
   "source": [
    "## Data Reading\n",
    "\n",
    "Read in the data from the training and dev (or finally test) sets"
   ]
  },
  {
   "cell_type": "code",
   "metadata": {
    "ExecuteTime": {
     "end_time": "2024-11-10T04:10:58.866140Z",
     "start_time": "2024-11-10T04:10:58.862733Z"
    }
   },
   "source": [
    "def read_xy_data(filename: str) -> tuple[list[str], list[int]]:\n",
    "    x_data = []\n",
    "    y_data = []\n",
    "    with open(filename, 'r') as f:\n",
    "        for line in f:\n",
    "            label, text = line.strip().split(' ||| ')\n",
    "            x_data.append(text)\n",
    "            y_data.append(int(label))\n",
    "    return x_data, y_data"
   ],
   "outputs": [],
   "execution_count": 2
  },
  {
   "cell_type": "code",
   "metadata": {
    "ExecuteTime": {
     "end_time": "2024-11-10T04:11:00.052904Z",
     "start_time": "2024-11-10T04:11:00.044486Z"
    }
   },
   "source": [
    "x_train, y_train = read_xy_data('../data/sst-sentiment-text-threeclass/train.txt')\n",
    "x_test, y_test = read_xy_data('../data/sst-sentiment-text-threeclass/dev.txt')"
   ],
   "outputs": [],
   "execution_count": 3
  },
  {
   "cell_type": "code",
   "metadata": {
    "scrolled": true,
    "ExecuteTime": {
     "end_time": "2024-11-10T04:11:02.482576Z",
     "start_time": "2024-11-10T04:11:02.479273Z"
    }
   },
   "source": [
    "print(x_train[0])\n",
    "print(y_train[0])"
   ],
   "outputs": [
    {
     "name": "stdout",
     "output_type": "stream",
     "text": [
      "The Rock is destined to be the 21st Century 's new `` Conan '' and that he 's going to make a splash even greater than Arnold Schwarzenegger , Jean-Claud Van Damme or Steven Segal .\n",
      "1\n"
     ]
    }
   ],
   "execution_count": 4
  },
  {
   "cell_type": "markdown",
   "metadata": {},
   "source": [
    "## Run the Classifier and Calculate Accuracy\n",
    "\n",
    "Run the classifier over the training and dev (test) sets and calculate accuracy"
   ]
  },
  {
   "cell_type": "code",
   "metadata": {
    "ExecuteTime": {
     "end_time": "2024-11-10T04:36:22.868729Z",
     "start_time": "2024-11-10T04:36:22.866082Z"
    }
   },
   "source": [
    "def run_classifier(x: str) -> int:\n",
    "    score = 0\n",
    "    # print(f'feature name: {extract_features(x).items()}') #good_word_count, bad_word_count, bias\n",
    "    for feat_name, feat_value in extract_features(x).items():\n",
    "        score = score + feat_value * feature_weights.get(feat_name, 0)\n",
    "    if score > 0:\n",
    "        return 1\n",
    "    elif score < 0:\n",
    "        return -1\n",
    "    else:\n",
    "        return 0"
   ],
   "outputs": [],
   "execution_count": 38
  },
  {
   "metadata": {
    "ExecuteTime": {
     "end_time": "2024-11-10T04:31:04.257463Z",
     "start_time": "2024-11-10T04:31:04.255026Z"
    }
   },
   "cell_type": "code",
   "source": [
    "print(x_train[10])\n",
    "print(y_train[10])"
   ],
   "outputs": [
    {
     "name": "stdout",
     "output_type": "stream",
     "text": [
      "Good fun , good action , good acting , good dialogue , good pace , good cinematography .\n",
      "1\n"
     ]
    }
   ],
   "execution_count": 31
  },
  {
   "metadata": {
    "ExecuteTime": {
     "end_time": "2024-11-10T04:31:32.027494Z",
     "start_time": "2024-11-10T04:31:32.025013Z"
    }
   },
   "cell_type": "code",
   "source": "run_classifier(x_train[10])",
   "outputs": [
    {
     "name": "stdout",
     "output_type": "stream",
     "text": [
      "Contain good word\n",
      "Contain good word\n",
      "Contain good word\n",
      "Contain good word\n",
      "Contain good word\n",
      "feature name: dict_items([('good_word_count', 5), ('bias', 1)])\n",
      "Contain good word\n",
      "Contain good word\n",
      "Contain good word\n",
      "Contain good word\n",
      "Contain good word\n"
     ]
    },
    {
     "data": {
      "text/plain": [
       "1"
      ]
     },
     "execution_count": 33,
     "metadata": {},
     "output_type": "execute_result"
    }
   ],
   "execution_count": 33
  },
  {
   "cell_type": "code",
   "metadata": {
    "ExecuteTime": {
     "end_time": "2024-11-10T04:32:10.144025Z",
     "start_time": "2024-11-10T04:32:10.139178Z"
    }
   },
   "source": [
    "def calculate_accuracy(x_data: list[str], y_data: list[int]) -> float:\n",
    "    total_number = 0\n",
    "    correct_number = 0\n",
    "    for x, y in zip(x_data, y_data):\n",
    "        y_pred = run_classifier(x)\n",
    "        total_number += 1\n",
    "        if y == y_pred:\n",
    "            correct_number += 1\n",
    "    return correct_number / float(total_number)"
   ],
   "outputs": [],
   "execution_count": 34
  },
  {
   "cell_type": "code",
   "metadata": {
    "ExecuteTime": {
     "end_time": "2024-11-10T04:32:10.725684Z",
     "start_time": "2024-11-10T04:32:10.723257Z"
    }
   },
   "source": [
    "label_count = {}\n",
    "for y in y_test:\n",
    "    if y not in label_count:\n",
    "        label_count[y] = 0\n",
    "    label_count[y] += 1\n",
    "print(label_count)"
   ],
   "outputs": [
    {
     "name": "stdout",
     "output_type": "stream",
     "text": [
      "{1: 444, 0: 229, -1: 428}\n"
     ]
    }
   ],
   "execution_count": 35
  },
  {
   "cell_type": "code",
   "metadata": {
    "ExecuteTime": {
     "end_time": "2024-11-10T04:36:43.672483Z",
     "start_time": "2024-11-10T04:36:43.639241Z"
    }
   },
   "source": [
    "train_accuracy = calculate_accuracy(x_train, y_train)\n",
    "test_accuracy = calculate_accuracy(x_test, y_test)\n",
    "print(f'Train accuracy: {train_accuracy}')\n",
    "print(f'Dev/test accuracy: {test_accuracy}')"
   ],
   "outputs": [
    {
     "name": "stdout",
     "output_type": "stream",
     "text": [
      "Train accuracy: 0.4345739700374532\n",
      "Dev/test accuracy: 0.4214350590372389\n"
     ]
    }
   ],
   "execution_count": 41
  },
  {
   "cell_type": "markdown",
   "metadata": {},
   "source": [
    "## Error Analysis\n",
    "\n",
    "An important part of improving any system is figuring out where it goes wrong. The following two functions allow you to randomly observe some mistaken examples, which may help you improve the classifier. Feel free to write more sophisticated methods for error analysis as well."
   ]
  },
  {
   "cell_type": "code",
   "metadata": {
    "ExecuteTime": {
     "end_time": "2024-11-10T04:37:04.067924Z",
     "start_time": "2024-11-10T04:37:04.060535Z"
    }
   },
   "source": [
    "import random\n",
    "def find_errors(x_data, y_data):\n",
    "    error_ids = []\n",
    "    y_preds = []\n",
    "    for i, (x, y) in enumerate(zip(x_data, y_data)):\n",
    "        y_preds.append(run_classifier(x))\n",
    "        if y != y_preds[-1]:\n",
    "            error_ids.append(i)\n",
    "    for _ in range(5):\n",
    "        my_id = random.choice(error_ids)\n",
    "        x, y, y_pred = x_data[my_id], y_data[my_id], y_preds[my_id]\n",
    "        print(f'{x}\\ntrue label: {y}\\npredicted label: {y_pred}\\n')"
   ],
   "outputs": [],
   "execution_count": 42
  },
  {
   "cell_type": "code",
   "metadata": {
    "ExecuteTime": {
     "end_time": "2024-11-10T04:37:05.546899Z",
     "start_time": "2024-11-10T04:37:05.526593Z"
    }
   },
   "source": [
    "find_errors(x_train, y_train)"
   ],
   "outputs": [
    {
     "name": "stdout",
     "output_type": "stream",
     "text": [
      "Completely creatively stillborn and executed in a manner that I 'm not sure could be a single iota worse ... a soulless hunk of exploitative garbage .\n",
      "true label: -1\n",
      "predicted label: 1\n",
      "\n",
      "A fragile framework upon which to hang broad , mildly fleshed-out characters that seem to have been conjured up only 10 minutes prior to filming .\n",
      "true label: -1\n",
      "predicted label: 1\n",
      "\n",
      "... a cinematic disaster so inadvertently sidesplitting it 's worth the price of admission for the ridicule factor alone .\n",
      "true label: -1\n",
      "predicted label: 1\n",
      "\n",
      "A tired , unimaginative and derivative variation of that already-shallow genre .\n",
      "true label: -1\n",
      "predicted label: 1\n",
      "\n",
      "A different and emotionally reserved type of survival story -- a film less about refracting all of World War II through the specific conditions of one man , and more about that man lost in its midst .\n",
      "true label: 1\n",
      "predicted label: -1\n",
      "\n"
     ]
    }
   ],
   "execution_count": 43
  },
  {
   "cell_type": "code",
   "execution_count": null,
   "metadata": {},
   "outputs": [],
   "source": []
  }
 ],
 "metadata": {
  "kernelspec": {
   "display_name": "Python 3 (ipykernel)",
   "language": "python",
   "name": "python3"
  },
  "language_info": {
   "codemirror_mode": {
    "name": "ipython",
    "version": 3
   },
   "file_extension": ".py",
   "mimetype": "text/x-python",
   "name": "python",
   "nbconvert_exporter": "python",
   "pygments_lexer": "ipython3",
   "version": "3.12.0"
  }
 },
 "nbformat": 4,
 "nbformat_minor": 2
}
